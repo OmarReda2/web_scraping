{
 "cells": [
  {
   "cell_type": "code",
   "execution_count": null,
   "metadata": {},
   "outputs": [],
   "source": [
    "import requests\n",
    "import numpy as np\n",
    "import pandas as pd\n",
    "from bs4 import BeautifulSoup\n",
    "\n",
    "main_url = 'https://www.drugs.com'\n",
    "def req_page(url):\n",
    "    html_text = requests.get(f'{main_url}{url}').text\n",
    "    soup = BeautifulSoup(html_text, 'lxml')\n",
    "    return soup\n",
    "\n",
    "chars = ['a','b', 'c', 'd', 'e', 'f', 'g', 'h', 'i', 'j', 'k', 'l', 'm', 'n', 'o', 'p', 'q', 'r', 's', 't', 'u', 'v', 'w', 'x', 'y', 'z']\n",
    "# chars = ['y', 'z']\n",
    "data = pd.DataFrame()\n",
    "data_noDrug = []\n",
    "for char in chars:\n",
    "    ## extract url\n",
    "    my_page = req_page(f'/condition/{char}.html') \n",
    "\n",
    "    A = my_page.find('ul', class_='ddc-list-column-2')\n",
    "    if(not A):\n",
    "        A = my_page.find('div', class_='contentBox').find('ul')\n",
    "    \n",
    "    diseases = A.findAll('li')\n",
    "\n",
    "\n",
    "    for disease in diseases:\n",
    "        disease_name = disease.find('a').text\n",
    "        drug_url = disease.find('a').get('href')\n",
    "\n",
    "        ## extract info\n",
    "        drugs_list = []\n",
    "        drugs = req_page(drug_url)\n",
    "        all_page = drugs.find('li', class_='ddc-paging-show-all')\n",
    "        if(all_page):\n",
    "            all_page = all_page.find('a').get('href')\n",
    "            drugs = req_page(all_page)\n",
    "\n",
    "        drugs_table = drugs.find('table', class_='ddc-table-secondary ddc-table-sortable condition-table')\n",
    "\n",
    "        if( not drugs_table):\n",
    "            data_noDrug.append(disease_name)\n",
    "            continue\n",
    "\n",
    "        \n",
    "        drugs_name = drugs_table.findAll('tr', class_='condition-table__summary')\n",
    "        drugs_generic = drugs_table.findAll('p', class_='condition-table__generic-name' )\n",
    "        drugs_rate =  drugs_table.findAll('td', class_='condition-table__rating')\n",
    "\n",
    "\n",
    "\n",
    "        for i in range(len(drugs_name)):\n",
    "                drug_info = []\n",
    "                name = drugs_name[i].find('a', class_='condition-table__drug-name__link ddc-text-wordbreak').text\n",
    "\n",
    "                rate = drugs_rate[i].text.replace('\\n', '').replace('\\t','')\n",
    "                if rate != 'Rate':\n",
    "                    name = f'{name} - {rate}' \n",
    "\n",
    "                generic = drugs_generic[i].text.replace('Generic name:', '').replace('\\t', '').replace('\\n', '').replace('\\xa0', '')\n",
    "\n",
    "                drug_info.append(name)    \n",
    "                drug_info.append(generic)    \n",
    "                drugs_list.append(drug_info)\n",
    "\n",
    "        A_drugs = {disease_name: drugs_list}\n",
    "        df = pd.DataFrame(A_drugs)\n",
    "        data = data.append(df)\n",
    "        print(disease_name)"
   ]
  },
  {
   "cell_type": "code",
   "execution_count": null,
   "metadata": {},
   "outputs": [],
   "source": [
    "df_array = data.transpose()\n",
    "df_array_df = pd.DataFrame(df_array)\n",
    "df_array_df.to_csv('drugs.csv')"
   ]
  }
 ],
 "metadata": {
  "kernelspec": {
   "display_name": "Python 3.10.6 64-bit",
   "language": "python",
   "name": "python3"
  },
  "language_info": {
   "codemirror_mode": {
    "name": "ipython",
    "version": 3
   },
   "file_extension": ".py",
   "mimetype": "text/x-python",
   "name": "python",
   "nbconvert_exporter": "python",
   "pygments_lexer": "ipython3",
   "version": "3.10.6"
  },
  "orig_nbformat": 4,
  "vscode": {
   "interpreter": {
    "hash": "d31201e02e4b7c7646718902bad6c42f547a48c63987c2a8ac208903c2d35310"
   }
  }
 },
 "nbformat": 4,
 "nbformat_minor": 2
}
